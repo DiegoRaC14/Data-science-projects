{
  "cells": [
    {
      "cell_type": "markdown",
      "metadata": {
        "id": "qGJQtw-EUA_x"
      },
      "source": [
        "# **Exercise: Optimization algorithm**"
      ]
    },
    {
      "cell_type": "markdown",
      "metadata": {
        "id": "QhNilVYsUOqG"
      },
      "source": [
        "<div align = \"justify\">\n",
        "Implement the gradient descent algorithm to find the minimum of the following\n",
        "function:\n",
        "\n",
        "\n",
        "$$f(x) = x^2 + 4x + 5$$\n",
        "</div>"
      ]
    },
    {
      "cell_type": "markdown",
      "metadata": {
        "id": "hhpEj8_Wcay9"
      },
      "source": [
        "<div align = \"justify\">\n",
        "\n",
        "**Step 1: Define a function to minimize**\n",
        "\n",
        "We want to find the minimum of the following function\n",
        "$$f(x) = x^2 + 4x + 5$$\n",
        "\n",
        "\\\n",
        "**Step 2: Compute the gradient**\n",
        "\n",
        "Calculate the gradient, that is the derivative of the function.\n",
        "$$ \\nabla f(x) = \\frac{d f(x)}{d x}$$\n",
        "\n",
        "\\\n",
        "**Step 3: Update x**\n",
        "\n",
        "Update the parameters $\\omega$ and $b$ using the learning rate $\\alpha$:\n",
        "\n",
        "$$x_{n+1} = x_{n} - \\alpha \\cdot \\nabla f(x_{n})$$\n",
        "\n",
        "Where\n",
        "$\\alpha$ is the learning rate.\n",
        "\n",
        "Recall...\n",
        "\n",
        "Small $\\alpha$: Slow convergence.\n",
        "\n",
        "Large $\\alpha$: Risk of overlooking the minimum.\n",
        "</div>"
      ]
    },
    {
      "cell_type": "code",
      "execution_count": null,
      "metadata": {
        "id": "eNgM560Y8_Qg"
      },
      "outputs": [],
      "source": [
        "import numpy as np # Linear algebra\n",
        "import matplotlib.pyplot as plt # Plot\n",
        "import math # Built-in module for mathematical tasks"
      ]
    },
    {
      "cell_type": "code",
      "execution_count": null,
      "metadata": {
        "id": "MoajkquqgDax"
      },
      "outputs": [],
      "source": [
        "# Create the class\n",
        "class MinimizeFunction():\n",
        "\n",
        "  # Constructor method\n",
        "  def __init__(self, x, learning_rate, iterations_num):\n",
        "    self._x = x  # Initialize the starting point\n",
        "    self._learning_rate = learning_rate\n",
        "    self._iterations_num = iterations_num\n",
        "    self._x_old = None  # Will store x values after gradient descent\n",
        "    self._y = None  # Will store function values after gradient descent\n",
        "\n",
        "  # Define the function to minimize\n",
        "  def f(self, x):\n",
        "    return x**2 + (4*x) + 5\n",
        "\n",
        "  # Use the definition of the derivative\n",
        "  def first_derivative(self, x, h=1e-6):\n",
        "    return (self.f(x + h) - self.f(x)) / h\n",
        "\n",
        "  # Gradient descent algorithm\n",
        "  def gradient_descent(self):\n",
        "    # Save the points to plot them later\n",
        "    self._x_old = np.zeros(self._iterations_num + 1)\n",
        "    self._y = np.zeros(self._iterations_num + 1)\n",
        "\n",
        "    self._x_old[0] = self._x  # Save the first point\n",
        "    self._y[0] = self.f(self._x_old[0])  # Evaluate the point in the function\n",
        "\n",
        "    print(f\"Starting point: (x = {self._x_old[0]}, y = {self._y[0]})\\n\")\n",
        "\n",
        "    for i in range(1, self._iterations_num + 1):  # Create the iterations\n",
        "      # Update the new variable\n",
        "      self._x_old[i] = self._x_old[i-1] - (self._learning_rate * self.first_derivative(self._x_old[i-1]))\n",
        "\n",
        "      # Calculate the function value at the new point\n",
        "      self._y[i] = self.f(self._x_old[i])\n",
        "\n",
        "      if i % 5 == 0:\n",
        "        print(f\"Iteration {i}: (x = {round(self._x_old[i], 4)}, y = {round(self._y[i], 4)})\")\n",
        "\n",
        "    return self._x_old[-1], self._y[-1]\n",
        "\n",
        "\n",
        "  # Plot the function and the minimum value\n",
        "  def graph_minimum(self):\n",
        "    # This conditional handles a possible error\n",
        "    if self._x_old is None or self._y is None:\n",
        "      raise ValueError(\"You must run gradient_descent() before calling graph_minimum().\")\n",
        "\n",
        "    x_min = self._x_old[-1]\n",
        "    y_min = self._y[-1] # Obtain the minimum value\n",
        "\n",
        "    x = np.linspace(x_min - 4.9, x_min + 5.1, 100)  # Define the range around the minimum\n",
        "    y = [self.f(num) for num in x]  # Calculate function values for each x\n",
        "\n",
        "    plt.plot(x, y, label=\"Function\", color='blue')\n",
        "    plt.scatter(self._x_old, self._y, color='orange', label=\"Steps\", s=50)\n",
        "    plt.scatter(x_min, y_min, color='red', label=\"Minimum\", marker='o', edgecolors='black', s=100)\n",
        "\n",
        "    plt.title(\"Function with minimum point using Gradient Descent algorithm\")\n",
        "    plt.xlim(x_min - 1.5, x_min + 1.5) # Set limits in x-axis relative to the minimum\n",
        "    plt.ylim(y_min - 0.3, y_min + 0.5)  # Set dynamic limits for the y-axis\n",
        "    plt.xlabel(\"x\")\n",
        "    plt.ylabel(\"f(x)\")\n",
        "    plt.legend()  # Show the labels\n",
        "    plt.grid()\n",
        "    plt.show()"
      ]
    },
    {
      "cell_type": "code",
      "execution_count": null,
      "metadata": {
        "colab": {
          "base_uri": "https://localhost:8080/"
        },
        "id": "dEabSwW1kRNS",
        "outputId": "6dc1e635-1418-409b-c340-76bef15be9db"
      },
      "outputs": [
        {
          "name": "stdout",
          "output_type": "stream",
          "text": [
            "Starting point: (x = 1.0, y = 10.0)\n",
            "\n",
            "Iteration 5: (x = -1.017, y = 1.9664)\n",
            "Iteration 10: (x = -1.6779, y = 1.1038)\n",
            "Iteration 15: (x = -1.8944, y = 1.0111)\n",
            "Iteration 20: (x = -1.9654, y = 1.0012)\n",
            "Iteration 25: (x = -1.9887, y = 1.0001)\n",
            "Iteration 30: (x = -1.9963, y = 1.0)\n",
            "\n",
            "Solution found (x axis): -1.9962866792576648\n",
            "Minimum value (y axis): 1.0000137887509353\n"
          ]
        }
      ],
      "source": [
        "initial_value = 1\n",
        "learning_rate = 0.1\n",
        "iterations_num = 30\n",
        "\n",
        "# Running Gradient Descendent method\n",
        "g_desc = MinimizeFunction(initial_value, learning_rate, iterations_num)\n",
        "x_min, y_min = g_desc.gradient_descent()\n",
        "print(f\"\\nSolution found (x axis): {x_min}\")\n",
        "print(f\"Minimum value (y axis): {y_min}\")\n",
        "\n",
        "# This is a robust algorithm since it makes all the computations inside the class,\n",
        "# so the user won't use some of the methods."
      ]
    },
    {
      "cell_type": "code",
      "execution_count": null,
      "metadata": {
        "colab": {
          "base_uri": "https://localhost:8080/",
          "height": 472
        },
        "id": "fFM0IQvFnKPv",
        "outputId": "c2ebd950-4afe-4218-da79-a9b313d48066"
      },
      "outputs": [
        {
          "data": {
            "image/png": "[encoded data removed]",
            "text/plain": [
              "<Figure size 640x480 with 1 Axes>"
            ]
          },
          "metadata": {},
          "output_type": "display_data"
        }
      ],
      "source": [
        "g_desc.graph_minimum()"
      ]
    }
  ],
  "metadata": {
    "colab": {
      "provenance": []
    },
    "kernelspec": {
      "display_name": "Python 3",
      "name": "python3"
    },
    "language_info": {
      "name": "python"
    }
  },
  "nbformat": 4,
  "nbformat_minor": 0
}
