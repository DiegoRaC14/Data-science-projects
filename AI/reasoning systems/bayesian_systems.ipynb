{
  "cells": [
    {
      "cell_type": "markdown",
      "metadata": {
        "id": "hACPjME8yzWe"
      },
      "source": [
        "# **Bayesian systems**\n",
        "\n",
        "<div align = \"justify\">\n",
        "\n",
        "**Bayesian systems** rely on Bayesian probability to model uncertainty. They use prior knowledge and update beliefs as new data arrives.\n",
        "\n",
        "</div>"
      ]
    },
    {
      "cell_type": "markdown",
      "metadata": {
        "id": "zCvehjrz5Q4h"
      },
      "source": [
        "<div align = \"justify\">\n",
        "\n",
        "### **Exercise 1: Emotion detection in text**\n",
        "\n",
        "System that detects and classifies emotions in text messages using Bayesian techniques.\n",
        "\n",
        "This can be useful for applications such as sentiment analysis in social media or customer support.\n",
        "\n",
        "</div>"
      ]
    },
    {
      "cell_type": "code",
      "execution_count": 1,
      "metadata": {
        "id": "cyFIefVI_KJA"
      },
      "outputs": [],
      "source": [
        "# Upload data (with percentages)\n",
        "emotions_prob = {\n",
        "    'happy': 0.4,\n",
        "    'sad': 0.3,\n",
        "    'angry': 0.3\n",
        "}\n",
        "\n",
        "# Conditional probabilities\n",
        "# For example, the first value: P(joyful | happy) = 0.25\n",
        "words_prob = {\n",
        "    'happy': {'happy': 0.25, 'joyful': 0.125, 'great': 0.125, 'sad': 0.05},\n",
        "    'sad': {'happy': 0.05, 'joyful': 0.02, 'great': 0.03, 'sad': 0.20},\n",
        "    'angry': {'happy': 0.10, 'joyful': 0.03, 'great': 0.02, 'sad': 0.05}\n",
        "}"
      ]
    },
    {
      "cell_type": "code",
      "execution_count": 2,
      "metadata": {
        "id": "FLSiED_bBxWt"
      },
      "outputs": [],
      "source": [
        "def predict_emotion(text):\n",
        "  words = text.lower().split()  # Preprocessing: lowercasing and tokenizing\n",
        "\n",
        "  emotions = ['happy', 'sad', 'angry']\n",
        "  emotion_scores = {}\n",
        "  total_prob = 0  # This will store the total P(W) for all emotions\n",
        "\n",
        "  # Check if there are any valid words in the text that exist in the probability tables\n",
        "  valid_words = [word for word in words if any(word in words_prob[emotion] for emotion in emotions)]\n",
        "\n",
        "  if not valid_words: # If indeed this is true, the not returns a true. So initiates the if\n",
        "    return \"There are not any of these words in the database.\"\n",
        "\n",
        "  # Calculate the total probability P(W) for the word list\n",
        "  for word in words:\n",
        "    word_prob = 0\n",
        "\n",
        "    for emotion in emotions:\n",
        "        if word in words_prob[emotion]:\n",
        "            word_prob += emotions_prob[emotion] * words_prob[emotion].get(word, 1e-6)  # Small probability for unknown words\n",
        "    total_prob += word_prob\n",
        "\n",
        "  # Calculate the posterior probability for each emotion\n",
        "  for emotion in emotions:\n",
        "    sing_prob = emotions_prob[emotion]  # P(E)\n",
        "    conditional_prob = 1  # Multiply all the conditional probabilities of words given the emotion\n",
        "\n",
        "    for word in words:\n",
        "        if word in words_prob[emotion]:\n",
        "            conditional_prob *= words_prob[emotion].get(word, 1e-6)  # P(W|E) for each word\n",
        "\n",
        "    posterior_prob = (sing_prob * conditional_prob) / total_prob  # Apply Bayes' Theorem to compute P(E|W)\n",
        "    emotion_scores[emotion] = posterior_prob\n",
        "\n",
        "    # Display probabilities for the user\n",
        "    print(f\"Emotion: {emotion}\")\n",
        "    print(f\"P(E): {sing_prob}\")\n",
        "    print(f\"Conditional probabilities P(W|E):\")\n",
        "    for word in words:\n",
        "        print(f\"  {word}: {words_prob[emotion].get(word, 1e-6)}\")\n",
        "    print(f\"Total P(W): {total_prob}\")\n",
        "    print(f\"P(E|W): {round(posterior_prob, 6)}\")\n",
        "    print(\"-\" * 40)\n",
        "\n",
        "  # Return the emotion with the highest score\n",
        "  return max(emotion_scores, key=emotion_scores.get)"
      ]
    },
    {
      "cell_type": "code",
      "execution_count": 8,
      "metadata": {
        "colab": {
          "base_uri": "https://localhost:8080/"
        },
        "id": "EEeKE-5bDXGz",
        "outputId": "ad18b8aa-a6f0-4077-d033-25fb471d47d9"
      },
      "outputs": [
        {
          "name": "stdout",
          "output_type": "stream",
          "text": [
            "Please, type a sentence:\n",
            "SENTENCE: Today it is kinda a sad day. Nevertheless I feel great and joyful.\n",
            "\n",
            "\n",
            "Emotion: happy\n",
            "P(E): 0.4\n",
            "Conditional probabilities P(W|E):\n",
            "  today: 1e-06\n",
            "  it: 1e-06\n",
            "  is: 1e-06\n",
            "  kinda: 1e-06\n",
            "  a: 1e-06\n",
            "  sad: 0.05\n",
            "  day.: 1e-06\n",
            "  nevertheless: 1e-06\n",
            "  i: 1e-06\n",
            "  feel: 1e-06\n",
            "  great: 0.125\n",
            "  and: 1e-06\n",
            "  joyful.: 1e-06\n",
            "Total P(W): 0.16\n",
            "P(E|W): 0.015625\n",
            "----------------------------------------\n",
            "Emotion: sad\n",
            "P(E): 0.3\n",
            "Conditional probabilities P(W|E):\n",
            "  today: 1e-06\n",
            "  it: 1e-06\n",
            "  is: 1e-06\n",
            "  kinda: 1e-06\n",
            "  a: 1e-06\n",
            "  sad: 0.2\n",
            "  day.: 1e-06\n",
            "  nevertheless: 1e-06\n",
            "  i: 1e-06\n",
            "  feel: 1e-06\n",
            "  great: 0.03\n",
            "  and: 1e-06\n",
            "  joyful.: 1e-06\n",
            "Total P(W): 0.16\n",
            "P(E|W): 0.01125\n",
            "----------------------------------------\n",
            "Emotion: angry\n",
            "P(E): 0.3\n",
            "Conditional probabilities P(W|E):\n",
            "  today: 1e-06\n",
            "  it: 1e-06\n",
            "  is: 1e-06\n",
            "  kinda: 1e-06\n",
            "  a: 1e-06\n",
            "  sad: 0.05\n",
            "  day.: 1e-06\n",
            "  nevertheless: 1e-06\n",
            "  i: 1e-06\n",
            "  feel: 1e-06\n",
            "  great: 0.02\n",
            "  and: 1e-06\n",
            "  joyful.: 1e-06\n",
            "Total P(W): 0.16\n",
            "P(E|W): 0.001875\n",
            "----------------------------------------\n",
            "The predicted emotion is: happy\n"
          ]
        }
      ],
      "source": [
        "# Demonstration\n",
        "print(\"Please, type a sentence:\")\n",
        "example_sentence = input()  # This allows the user to input a sentence manually\n",
        "\n",
        "# i.e., sentence: Today it is kinda a sad day. Nevertheless I feel great and joyful.\n",
        "\n",
        "print(f\"SENTENCE: {example_sentence}\\n\\n\") # Print the sentence\n",
        "predicted_emotion = predict_emotion(example_sentence)\n",
        "print(f\"The predicted emotion is: {predicted_emotion}\")"
      ]
    },
    {
      "cell_type": "markdown",
      "metadata": {},
      "source": [
        "<div align = \"justify\">\n",
        "\n",
        "With the sentence \"Today it is kinda a sad day. Nevertheless I feel great and joyful.\", the system would predict the person who typed this is 40% happy, 30% sad and 30% angry. Thus, the predicted emotion is **happy**.\n",
        "\n",
        "</div>"
      ]
    },
    {
      "cell_type": "markdown",
      "metadata": {},
      "source": [
        "<div align = \"justify\">\n",
        "\n",
        "### **Exercise 2:** Driver Assistance System using Bayesian Networks and Expert Rules\n",
        "\n",
        "* *Objective:* Understand the application of Bayesian networks in driver assistance systems, combined with an expert system for rule-based reasoning.\n",
        "\n",
        "* *Scenario:* We are designing a driver assistance system that predicts the likelihood of a collision based on the speed of the vehicle, the distance to the vehicle ahead, the condition of the road (wet or dry), and additional expert rules.\n",
        "</div>"
      ]
    },
    {
      "cell_type": "code",
      "execution_count": 10,
      "metadata": {},
      "outputs": [],
      "source": [
        "# !pip install pgmpy # Install library for Probabilistic graphical models (This is how it's downloaded in google colab)\n",
        "\n",
        "from pgmpy.models import DiscreteBayesianNetwork \n",
        "from pgmpy.factors.discrete import TabularCPD\n",
        "from pgmpy.inference import VariableElimination"
      ]
    },
    {
      "cell_type": "code",
      "execution_count": 14,
      "metadata": {},
      "outputs": [
        {
          "name": "stdout",
          "output_type": "stream",
          "text": [
            "+------------------+----------------------+\n",
            "| CollisionRisk    |   phi(CollisionRisk) |\n",
            "+==================+======================+\n",
            "| CollisionRisk(0) |               0.7000 |\n",
            "+------------------+----------------------+\n",
            "| CollisionRisk(1) |               0.3000 |\n",
            "+------------------+----------------------+\n"
          ]
        }
      ],
      "source": [
        "# Define the structure\n",
        "model = DiscreteBayesianNetwork ([('Speed', 'CollisionRisk'),\n",
        "                         ('Distance', 'CollisionRisk'),\n",
        "                         ('RoadCondition', 'CollisionRisk')])\n",
        "\n",
        "# Define the CPTs (Conditional Probability Tables)\n",
        "\n",
        "# P(Speed) = 'Low' (0) or 'High' (1)\n",
        "cpd_speed = TabularCPD(variable='Speed', variable_card=2, values=[[0.6], [0.4]])\n",
        "\n",
        "# P(Distance) = 'Short' (0) or 'Long' (1)\n",
        "cpd_distance = TabularCPD(variable='Distance', variable_card=2, values=[[0.6], [0.4]])\n",
        "\n",
        "# P(RoadCondition) = 'Dry' (0) or 'Wet' (1)\n",
        "cpd_road_condition = TabularCPD(variable='RoadCondition', variable_card=2, values=[[0.8], [0.2]])\n",
        "\n",
        "# Values represent the probability of a collision for all different combinations of Speed, Distance, and RoadCondition\n",
        "cpd_collision_risk = TabularCPD(variable='CollisionRisk', variable_card=2,\n",
        "                                  values=[[0.95, 0.7, 0.85, 0.4, 0.99, 0.7, 0.74, 0.2],\n",
        "                                          [0.05, 0.3, 0.15, 0.6, 0.01, 0.3, 0.26, 0.8]],\n",
        "\n",
        "                                # P(CollisionRisk|Speed=Low, Distance=Short) = 0.95 ...\n",
        "                                  evidence=['Speed', 'Distance', 'RoadCondition'],\n",
        "                                  evidence_card=[2, 2, 2])\n",
        "\n",
        "# Add the CPTs to the model\n",
        "model.add_cpds(cpd_speed, cpd_distance, cpd_road_condition, cpd_collision_risk)\n",
        "\n",
        "# Check if the model is valid\n",
        "assert model.check_model()\n",
        "\n",
        "# Perform inference\n",
        "inference = VariableElimination(model)\n",
        "\n",
        "# Simulate a scenario: High speed, short distance, wet road\n",
        "result = inference.query(variables=['CollisionRisk'],\n",
        "                         evidence={'Speed': 1, 'Distance': 0, 'RoadCondition': 1})\n",
        "print(result)"
      ]
    },
    {
      "cell_type": "markdown",
      "metadata": {},
      "source": [
        "<div align = \"justify\">\n",
        "\n",
        "Once a scenario is simulated, where the driver travels a short distance, at a high speed and the road is wet, then the Bayesian system would predict the collision risk is no with 70% and yes with 30%.\n",
        "\n",
        "</div>"
      ]
    }
  ],
  "metadata": {
    "colab": {
      "provenance": []
    },
    "kernelspec": {
      "display_name": "Python 3",
      "name": "python3"
    },
    "language_info": {
      "codemirror_mode": {
        "name": "ipython",
        "version": 3
      },
      "file_extension": ".py",
      "mimetype": "text/x-python",
      "name": "python",
      "nbconvert_exporter": "python",
      "pygments_lexer": "ipython3",
      "version": "3.12.2"
    }
  },
  "nbformat": 4,
  "nbformat_minor": 0
}
