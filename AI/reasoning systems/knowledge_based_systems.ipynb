{
  "cells": [
    {
      "cell_type": "markdown",
      "metadata": {
        "id": "wg5RZ8zEx7Qx"
      },
      "source": [
        "## **Knowledge-based system**\n",
        "\n",
        "<div align = \"justify\">\n",
        "\n",
        "Systems that rely on a structured knowledge base to make decisions or solve complex problems.\n",
        "\n",
        "</div>"
      ]
    },
    {
      "cell_type": "code",
      "execution_count": null,
      "metadata": {
        "id": "WRff2rBz5I9i"
      },
      "outputs": [],
      "source": [
        "class CrimeCase():\n",
        "\n",
        "  # Constructor nethod\n",
        "  def __init__(self, case_description, initial_verdic, facts, appeal_facts):\n",
        "    # Initializing the case details, verdict, and the facts for the case\n",
        "    self.case_description = case_description\n",
        "    self.initial_verdic = initial_verdic\n",
        "\n",
        "    # Check the input facts and appeal facts\n",
        "\n",
        "    # Deletes whitespaces for the facts and check if each value has a boolean type\n",
        "    self.facts = {\n",
        "    key.strip().lower(): (value if isinstance(value, bool) else str(value).strip())\n",
        "    for key, value in facts.items()\n",
        "    }\n",
        "\n",
        "    self.appeal_facts = {\n",
        "    key.strip().lower(): (value if isinstance(value, bool) else str(value).strip())\n",
        "    for key, value in appeal_facts.items()\n",
        "    }\n",
        "\n",
        "  def get_facts(self):\n",
        "    return self.facts\n",
        "\n",
        "\n",
        "  # Evaluate the case with circumscription logic\n",
        "  def _apply_circumscription(self):\n",
        "    \"\"\" Default assumption: The person is guilty unless proven otherwise\n",
        "    The circumscription logic assumes the guilt is true unless contradicting facts are found \"\"\"\n",
        "    guilt = self.facts[\"guilt\"]\n",
        "\n",
        "    # Now, apply the appeal facts, which could negate the default assumption\n",
        "    for fact, value in self.appeal_facts.items():\n",
        "        if fact == \"guilt\":\n",
        "            guilt = value  # Override the initial guilt value if there's an appeal contradiction\n",
        "\n",
        "    # Final verdict\n",
        "    if guilt:\n",
        "        return \"Guilty\"\n",
        "    else:\n",
        "      return \"Innocent\"\n",
        "\n",
        "\n",
        "  # Process the case and return the verdict after applying circumscription logic\n",
        "  def process_case(self):\n",
        "\n",
        "    print(f\"Crime: {self.case_description['crime']}\")\n",
        "    print(f\"\\nAccused: {self.case_description['accused']}\")\n",
        "\n",
        "    print(\"\\nFacts:\")# Print appeal facts\n",
        "    for fact, value in self.facts.items():\n",
        "      print(f\"{fact} -({value})-\")\n",
        "    print(\"\")\n",
        "\n",
        "    print(\"Initial veredict:\", self.initial_verdic)\n",
        "\n",
        "    print(\"\\nAppeal facts: \")\n",
        "    for fact, value in self.appeal_facts.items(): # Print appeal facts\n",
        "      print(f\"{fact} -({value})-\")\n",
        "    print(\"\")\n",
        "    # Apply circumscription logic and get the final verdict after appeal\n",
        "    final_verdict = self._apply_circumscription()\n",
        "    print(\"Veredict after appeal:\", final_verdict)"
      ]
    },
    {
      "cell_type": "markdown",
      "metadata": {
        "id": "p6MUDsv5GWKr"
      },
      "source": [
        "<div align = \"justify\">\n",
        "\n",
        "For this code, I chose circumscription logic because it considers an initial prior verdict, which assumes guilt unless contradictory evidence is presented. This model approaches a real-world legal reasoning where a judgment remains valid unless explicitly overturned by new facts.\n",
        "\n",
        "First, the case is presented with details about the suspect, evidence, and initial verdict. The model assumes the accused is guilty, and this assumption remains valid until new appealing facts come to light. If new evidence contradicts the initial verdict, it may override the previous judgment.\n",
        "\n",
        "Finally, the model provides the final veredict based on the previous facts.\n",
        "</div>"
      ]
    },
    {
      "cell_type": "markdown",
      "metadata": {
        "id": "FB-QJpkC-feV"
      },
      "source": [
        "<div justify = \"align\">\n",
        "\n",
        "### **Case 1: The Mansion Murder**\n",
        "\n",
        "**Crime:** Murder of the owner of a mansion\n",
        "\n",
        "**Accused:** The butler\n",
        "\n",
        "**Reason for guilt:**\n",
        "* The butler was seen near the crime scene\n",
        "* A knife with his fingerprints was found\n",
        "* The butler had a debt with the victim\n",
        "\n",
        "**Initial verdict:** Guilty\n",
        "\n",
        "**Appeal:** New evidence was found\n",
        "* A security video shows the butler was in another room at the time of the crime\n",
        "* The fingerprints on the knife do not match the butler's\n",
        "\n",
        "**Expected result:** Innocent\n",
        "</div>"
      ]
    },
    {
      "cell_type": "code",
      "execution_count": null,
      "metadata": {
        "colab": {
          "base_uri": "https://localhost:8080/"
        },
        "id": "s6b3MjhTN2ub",
        "outputId": "87103f0d-0f50-48e2-dfc5-32c6c393dea2"
      },
      "outputs": [
        {
          "name": "stdout",
          "output_type": "stream",
          "text": [
            "Crime: Murder of the owner of a mansion\n",
            "\n",
            "Accused: The butler\n",
            "\n",
            "Facts:\n",
            "guilt -(True)-\n",
            "butler_seen_near_crime_scene -(True)-\n",
            "knife_fingerprints_match_butler -(True)-\n",
            "butler_has_debt_with_victim -(True)-\n",
            "\n",
            "Initial veredict: Guilty\n",
            "\n",
            "Appeal facts: \n",
            "guilt -(False)-\n",
            "butler_has_alibi -(True)-\n",
            "knife_fingerprints_match_not_butler -(True)-\n",
            "\n",
            "Veredict after appeal: Innocent\n"
          ]
        }
      ],
      "source": [
        "# Case 1: The Mansion Murder\n",
        "case_1_description = {\n",
        "    'crime': 'Murder of the owner of a mansion',\n",
        "    'accused': 'The butler'\n",
        "}\n",
        "\n",
        "# Propositions for facts: Each fact is a boolean (True or False)\n",
        "case_1_facts = {\n",
        "    'guilt': True,  # Default assumption: The butler is guilty\n",
        "    'butler_seen_near_crime_scene': True,\n",
        "    'knife_fingerprints_match_butler': True,\n",
        "    'butler_has_debt_with_victim': True\n",
        "}\n",
        "\n",
        "# Propositions for appeal facts: New evidence introduced to challenge guilt\n",
        "case_1_appeal_facts = {\n",
        "    'guilt': False,  # New evidence contradicts the initial assumption\n",
        "    'butler_has_alibi': True,\n",
        "    'knife_fingerprints_match_not_butler': True\n",
        "}\n",
        "\n",
        "case_1 = CrimeCase(case_1_description, \"Guilty\", case_1_facts, case_1_appeal_facts)\n",
        "\n",
        "# Process the case\n",
        "case_1.process_case() # Creates an object from the class"
      ]
    },
    {
      "cell_type": "markdown",
      "metadata": {
        "id": "IIPASaFqmesa"
      },
      "source": [
        "<div justify = \"align\">\n",
        "\n",
        "### **Case 2: Bank Heist**\n",
        "\n",
        "**Crime:**  The Bank Heist\n",
        "\n",
        "**Accused:** A former bank employee\n",
        "\n",
        "**Reason for guilt:**\n",
        "* The accused was recently fired and had access to the bank's blueprints\n",
        "* A witness saw him near the bank on the day of the robbery\n",
        "* Stolen money was found in his house\n",
        "\n",
        "**Initial veredict:** Guilty\n",
        "\n",
        "**Appeal:** New evidence was found\n",
        "* The witness admits they were mistaken and were not sure they saw the accused\n",
        "* The money found in his house came from a recent inheritance, not the\n",
        "robbery.\n",
        "\n",
        "**Expected result:** Innocent\n",
        "</div>"
      ]
    },
    {
      "cell_type": "code",
      "execution_count": null,
      "metadata": {
        "colab": {
          "base_uri": "https://localhost:8080/"
        },
        "id": "yp4bYS7LfLcv",
        "outputId": "5f6a07c0-4bc6-4d3d-bfa2-fac0ba8f0b41"
      },
      "outputs": [
        {
          "name": "stdout",
          "output_type": "stream",
          "text": [
            "Crime: Bank robbery with hostages\n",
            "\n",
            "Accused: A former bank employee\n",
            "\n",
            "Facts:\n",
            "guilt -(True)-\n",
            "recently_fired -(True)-\n",
            "access_to_bank_blueprints -(True)-\n",
            "witness_saw_scene -(True)-\n",
            "money_found_in_house -(True)-\n",
            "\n",
            "Initial veredict: Guilty\n",
            "\n",
            "Appeal facts: \n",
            "guilt -(False)-\n",
            "witness_saw_scene -(False)-\n",
            "money_from_inheritance -(True)-\n",
            "\n",
            "Veredict after appeal: Innocent\n"
          ]
        }
      ],
      "source": [
        "# Case 2: The Bank Heist\n",
        "case_2_description = {\n",
        "    'crime': 'Bank robbery with hostages',\n",
        "    'accused': 'A former bank employee'\n",
        "}\n",
        "\n",
        "case_2_facts = {\n",
        "    'guilt': True,  # Initially guilty based on facts\n",
        "    'recently_fired': True,\n",
        "    'access_to_bank_blueprints': True,\n",
        "    'witness_saw_scene': True,\n",
        "    'money_found_in_house': True\n",
        "}\n",
        "\n",
        "case_2_appeal_facts = {\n",
        "    'guilt': False,  # New evidence makes the accused innocent\n",
        "    'witness_saw_scene': False,  # Witness admits mistake\n",
        "    'money_from_inheritance': True  # Money found was from inheritance, not robbery\n",
        "}\n",
        "\n",
        "case_2 = CrimeCase(case_2_description, \"Guilty\", case_2_facts, case_2_appeal_facts)\n",
        "case_2.process_case()"
      ]
    },
    {
      "cell_type": "markdown",
      "metadata": {
        "id": "h7RlQMgPxD6g"
      },
      "source": [
        "<div justify = \"align\">\n",
        "\n",
        "### **Case 3: Traffic accident**\n",
        "\n",
        "**Crime:** The traffic accident\n",
        "\n",
        "**Accused:** The car driver\n",
        "\n",
        "**Reason for guilt:**\n",
        "* The driver was speeding\n",
        "* A witness claims the driver ran a red light.\n",
        "* The driver had alcohol in their blood\n",
        "\n",
        "**Initial verdict:** Guilty\n",
        "\n",
        "**Appeal:** New evidence was found\n",
        "* A traƯic light analysis shows it was green at the time of the accident\n",
        "* The driver's blood alcohol level was within the legal limit\n",
        "\n",
        "**Expected result:** Innocent\n",
        "</div>"
      ]
    },
    {
      "cell_type": "code",
      "execution_count": null,
      "metadata": {
        "colab": {
          "base_uri": "https://localhost:8080/"
        },
        "id": "tHpd8YnwfYbH",
        "outputId": "ea011258-10bc-4d59-d6de-dbac2e775add"
      },
      "outputs": [
        {
          "name": "stdout",
          "output_type": "stream",
          "text": [
            "Crime: A traffic accident resulting in the death of a pedestrian\n",
            "\n",
            "Accused: The car driver\n",
            "\n",
            "Facts:\n",
            "guilt -(True)-\n",
            "speeding -(True)-\n",
            "witness_claimed_red_light -(True)-\n",
            "alcohol_in_blood -(True)-\n",
            "\n",
            "Initial veredict: Guilty\n",
            "\n",
            "Appeal facts: \n",
            "guilt -(False)-\n",
            "traffic_light_green -(True)-\n",
            "alcohol_within_legal_limit -(True)-\n",
            "\n",
            "Veredict after appeal: Innocent\n"
          ]
        }
      ],
      "source": [
        "# Case 3: The Traffic Accident\n",
        "case_3_description = {\n",
        "    'crime': 'A traffic accident resulting in the death of a pedestrian',\n",
        "    'accused': 'The car driver'\n",
        "}\n",
        "\n",
        "case_3_facts = {\n",
        "    'guilt': True,  # Initially guilty based on facts\n",
        "    'speeding': True,\n",
        "    'witness_claimed_red_light': True,\n",
        "    'alcohol_in_blood': True\n",
        "}\n",
        "\n",
        "case_3_appeal_facts = {\n",
        "    'guilt': False,  # New evidence makes the driver innocent\n",
        "    'traffic_light_green': True,\n",
        "    'alcohol_within_legal_limit': True\n",
        "}\n",
        "\n",
        "case_3 = CrimeCase(case_3_description, \"Guilty\", case_3_facts, case_3_appeal_facts)\n",
        "\n",
        "\n",
        "# Process all cases\n",
        "case_3.process_case()"
      ]
    }
  ],
  "metadata": {
    "colab": {
      "provenance": []
    },
    "kernelspec": {
      "display_name": "Python 3",
      "name": "python3"
    },
    "language_info": {
      "name": "python"
    }
  },
  "nbformat": 4,
  "nbformat_minor": 0
}
