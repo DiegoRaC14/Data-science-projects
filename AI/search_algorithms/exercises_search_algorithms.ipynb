{
  "cells": [
    {
      "cell_type": "markdown",
      "metadata": {
        "id": "zLNwy6aUjlSM"
      },
      "source": [
        "# **Excercise: Search algorithm**"
      ]
    },
    {
      "cell_type": "markdown",
      "metadata": {
        "id": "PmV2_cgbzOz_"
      },
      "source": [
        "<div align=\"justify\">\n",
        "\n",
        "We have a directed graph that represents a communication network\n",
        "between servers. Each node represents a server, and each edge\n",
        "represents a connection with an associated cost (transmission time\n",
        "in milliseconds). The objective is to find the optimal route from a\n",
        "start server to a destination server using search algorithms\n",
        "\n",
        "</div>"
      ]
    },
    {
      "cell_type": "markdown",
      "metadata": {
        "id": "GAwnsHbo19Al"
      },
      "source": [
        "## **Uninformed graphs**\n",
        "\n",
        "There is just one uniformed algorithm that reach the optimal route and uses a graph with cost:\n",
        "\n",
        "*   Uniform Cost Search (UCS)"
      ]
    },
    {
      "cell_type": "code",
      "execution_count": 15,
      "metadata": {
        "id": "4xDEy3fp3Byh"
      },
      "outputs": [],
      "source": [
        "import heapq # Priority queue\n",
        "from collections import deque # Import queue\n",
        "\n",
        "# For plotting the graph\n",
        "import networkx as nx\n",
        "import matplotlib.pyplot as plt"
      ]
    },
    {
      "cell_type": "code",
      "execution_count": 16,
      "metadata": {
        "id": "XKG25qaUr9qG"
      },
      "outputs": [],
      "source": [
        "# Maze with cost in a dictionary form\n",
        "maze_with_cost = {\n",
        "  'A': [('B', 10), ('C', 15)],\n",
        "  'B': [('D', 12)],\n",
        "  'C': [('D', 10)],\n",
        "  'D': [('E', 5)],\n",
        "}"
      ]
    },
    {
      "cell_type": "markdown",
      "metadata": {
        "id": "LExIHn817HIC"
      },
      "source": [
        "### **Uniform cost search algorithm**"
      ]
    },
    {
      "cell_type": "code",
      "execution_count": 17,
      "metadata": {
        "id": "3iR7DL4P2bPx"
      },
      "outputs": [],
      "source": [
        "# Uniform cost search algorithm\n",
        "def UCS(graph, start, end):\n",
        "  # Priority queue stores tuples of (cost, node, path)\n",
        "  priority_queue = [(0, start, [])]\n",
        "  visited = set()  # Set to keep track of visited nodes\n",
        "\n",
        "  while priority_queue:\n",
        "      # Extract the node with the lowest cost from the priority queue\n",
        "      cost, node, path = heapq.heappop(priority_queue)\n",
        "\n",
        "      if node in visited: # If the node has already been visited, we skip it\n",
        "          continue\n",
        "      visited.add(node)  # Mark the node as visited\n",
        "\n",
        "      # Update the path with the current node\n",
        "      path = path + [node]\n",
        "\n",
        "      # If we reached the end node, then return the result\n",
        "      if node == end:\n",
        "          # Prints a message\n",
        "          print(f\"The path would cost: {cost}. Shortest path is: {path}\")\n",
        "          return path\n",
        "\n",
        "      # Retrieves all neighbors of node\n",
        "      for neighbor, edge_cost in graph.get(node, []):\n",
        "          if neighbor not in visited: # If the neighbor has not been visited, we add it to the priority queue\n",
        "\n",
        "              # Push the neighbor into the priority queue with updated cost and path\n",
        "              heapq.heappush(priority_queue, (cost + edge_cost, neighbor, path))\n",
        "\n",
        "  return \"No path found\""
      ]
    },
    {
      "cell_type": "code",
      "execution_count": 18,
      "metadata": {
        "colab": {
          "base_uri": "https://localhost:8080/"
        },
        "id": "IUpaWrKz3H9m",
        "outputId": "8d0fd18e-5d8a-4082-ed39-5b5ac14cc808"
      },
      "outputs": [
        {
          "name": "stdout",
          "output_type": "stream",
          "text": [
            "The path would cost: 27. Shortest path is: ['A', 'B', 'D', 'E']\n"
          ]
        }
      ],
      "source": [
        "shortest_path_graph = UCS(maze_with_cost, 'A', 'E')"
      ]
    },
    {
      "cell_type": "markdown",
      "metadata": {
        "id": "3XVC1aUt5nPq"
      },
      "source": [
        "## **Informed algorithms**\n",
        "\n",
        "There are just two uniformed algorithms that reach the optimal route, use a graph with cost and heruistics:\n",
        "\n",
        "*   A*\n",
        "*   A* Tree Search"
      ]
    },
    {
      "cell_type": "code",
      "execution_count": 19,
      "metadata": {
        "id": "dbt496Xj5kPl"
      },
      "outputs": [],
      "source": [
        "# Heruistics\n",
        "heuristic_values = {\n",
        "    'A': 20,\n",
        "    'B': 15,\n",
        "    'C': 10,\n",
        "    'D': 5,\n",
        "    'E': 0,\n",
        "}"
      ]
    },
    {
      "cell_type": "markdown",
      "metadata": {
        "id": "p2q1T7jM7RhQ"
      },
      "source": [
        "### **A*** **algorithm**"
      ]
    },
    {
      "cell_type": "code",
      "execution_count": 20,
      "metadata": {
        "id": "UdaLgOc47Boe"
      },
      "outputs": [],
      "source": [
        "def a_star_search(graph, start, goal, heuristic_values):\n",
        "\n",
        "  open_list = [] # Create a list that stores tuples\n",
        "  initial_heuristic = heuristic_values.get(start, float('inf'))\n",
        "  heapq.heappush(open_list, (initial_heuristic, 0, start, [start]))\n",
        "\n",
        "  # The closed_set keeps track of nodes that have been completely visited\n",
        "  closed_set = set()\n",
        "\n",
        "  while open_list:\n",
        "      # Pop the node with the smallest total estimated cost from the priority queue\n",
        "      total_estimated_cost, path_cost, current_node, path_so_far = heapq.heappop(open_list)\n",
        "\n",
        "      # Check if we have reached the goal node\n",
        "      if current_node == goal:\n",
        "          return f\"Path found: {path_so_far}. Total cost: {path_cost}\"\n",
        "\n",
        "      # If the node was already visited we skip it\n",
        "      if current_node in closed_set:\n",
        "          continue\n",
        "      closed_set.add(current_node)\n",
        "\n",
        "      # Expand the current node's neighbors\n",
        "      for neighbor, edge_cost in graph.get(current_node, []):\n",
        "          # Skip neighbor if it has already been processed\n",
        "          if neighbor in closed_set:\n",
        "              continue\n",
        "\n",
        "          new_path_cost = path_cost + edge_cost # Compute new cost from start to neighbor\n",
        "          heuristic_neighbor = heuristic_values.get(neighbor, float('inf')) # Retrieve the heuristic value for the neighbor\n",
        "\n",
        "          # Compute the total estimated cost for the neighbor\n",
        "          new_total_estimated_cost = new_path_cost + heuristic_neighbor\n",
        "\n",
        "          new_path = path_so_far + [neighbor] # Construct the new path\n",
        "\n",
        "          # Push the neighbor into the priority queue\n",
        "          heapq.heappush(open_list, (new_total_estimated_cost, new_path_cost, neighbor, new_path))\n",
        "\n",
        "  return \"No path found\""
      ]
    },
    {
      "cell_type": "code",
      "execution_count": 21,
      "metadata": {
        "colab": {
          "base_uri": "https://localhost:8080/",
          "height": 36
        },
        "id": "6vtV8LLs7CdU",
        "outputId": "aae5e3e1-e81b-48cd-96eb-cae2c7b16a56"
      },
      "outputs": [
        {
          "data": {
            "text/plain": [
              "\"Path found: ['A', 'B', 'D', 'E']. Total cost: 27\""
            ]
          },
          "execution_count": 21,
          "metadata": {},
          "output_type": "execute_result"
        }
      ],
      "source": [
        "a_star_search(maze_with_cost, 'A', 'E', heuristic_values)"
      ]
    },
    {
      "cell_type": "markdown",
      "metadata": {
        "id": "PembJeOT7UYp"
      },
      "source": [
        "### **A** **tree algorithm***"
      ]
    },
    {
      "cell_type": "code",
      "execution_count": 22,
      "metadata": {
        "id": "CgxG2GkQ75Hd"
      },
      "outputs": [],
      "source": [
        "def a_tree_search(graph, start, goal, heuristic_values):\n",
        "  # Start with the starting node\n",
        "  initial_h = heuristic_values.get(start, float('inf'))  # Use the heuristic value for the start node\n",
        "  open_list = [(initial_h, 0, start, [start])]\n",
        "\n",
        "  # Create set\n",
        "  closed_set = set()\n",
        "\n",
        "  while open_list:\n",
        "      # Pop the node with the smallest value\n",
        "      total_cost, cost_so_far, current, path = heapq.heappop(open_list)\n",
        "\n",
        "      # If the current node is the goal, return the path and total cost\n",
        "      if current == goal:\n",
        "          return f\"Path found: {path}. Total cost: {cost_so_far}\" # Print path\n",
        "\n",
        "\n",
        "      # If the node has already been visited the skip it\n",
        "      if current in closed_set:\n",
        "          continue\n",
        "      closed_set.add(current)\n",
        "\n",
        "      # Expand neighbors of the current node\n",
        "      for neighbor, edge_cost in graph.get(current, []):\n",
        "          if neighbor in closed_set:\n",
        "              continue  # Skip already processed neighbors\n",
        "\n",
        "          new_cost = cost_so_far + edge_cost  # Update cumulative cost g\n",
        "\n",
        "          # Get the heuristic value for the neighbor (use infinity if missing)\n",
        "          new_h = heuristic_values.get(neighbor, float('inf'))\n",
        "          new_total_cost = new_cost + new_h # formula: f = g + h\n",
        "          new_path = path + [neighbor] # Extend the current path\n",
        "\n",
        "          # Push the neighbor into the priority queue\n",
        "          heapq.heappush(open_list, (new_total_cost, new_cost, neighbor, new_path))\n",
        "\n",
        "  return \"No path found\""
      ]
    },
    {
      "cell_type": "code",
      "execution_count": 23,
      "metadata": {
        "colab": {
          "base_uri": "https://localhost:8080/",
          "height": 36
        },
        "id": "UFbXOCCP76ge",
        "outputId": "77cd2b88-be95-4506-8279-e73b44546c9b"
      },
      "outputs": [
        {
          "data": {
            "text/plain": [
              "\"Path found: ['A', 'B', 'D', 'E']. Total cost: 27\""
            ]
          },
          "execution_count": 23,
          "metadata": {},
          "output_type": "execute_result"
        }
      ],
      "source": [
        "a_tree_search(maze_with_cost, 'A', 'E', heuristic_values)"
      ]
    },
    {
      "cell_type": "markdown",
      "metadata": {
        "id": "mXqV991A8Uej"
      },
      "source": [
        "## **Printing the graph**"
      ]
    },
    {
      "cell_type": "code",
      "execution_count": 24,
      "metadata": {
        "id": "RjU2kQN78T_8"
      },
      "outputs": [],
      "source": [
        "def plot_weighted_graph(graph_dict, path):\n",
        "    G = nx.Graph() # Create a graph\n",
        "\n",
        "    for node, neighbors in graph_dict.items(): # Add nodes and edges from the dictionary to the graph\n",
        "        for neighbor, weight in neighbors:\n",
        "            G.add_edge(node, neighbor, weight=weight)\n",
        "\n",
        "    # Plot the whole graph\n",
        "    plt.figure(figsize=(6, 6))\n",
        "    plt.title(\"Graph obtained from dictionary\")\n",
        "\n",
        "    pos = nx.spring_layout(G)  # Layout type\n",
        "    labels = nx.get_edge_attributes(G, 'weight')  # Get the weights of every edge\n",
        "    nx.draw(G, pos=pos, with_labels=True, node_size=2000, font_size=10, font_weight=\"bold\")\n",
        "    nx.draw_networkx_edge_labels(G, pos=pos, edge_labels=labels)\n",
        "\n",
        "    # Plot the path\n",
        "\n",
        "    path_edges = [] # Empty list to store the edges\n",
        "\n",
        "    # Loop through the path and extract each pair of consecutive nodes\n",
        "    for i in range(len(path) - 1):\n",
        "        # Append each pair of consecutive nodes\n",
        "        path_edges.append((path[i], path[i + 1]))# Extract edges that are part of the path\n",
        "\n",
        "    # Draw the path edges in a different color (highlight)\n",
        "    nx.draw_networkx_edges(G, pos=pos, edgelist=path_edges, edge_color=\"red\", width=3)\n",
        "\n",
        "    plt.tight_layout() # Have a nice layout\n",
        "    plt.show()"
      ]
    },
    {
      "cell_type": "code",
      "execution_count": 25,
      "metadata": {
        "colab": {
          "base_uri": "https://localhost:8080/",
          "height": 607
        },
        "id": "srdLTLJ29Aia",
        "outputId": "27d468e9-407a-4acd-8ba0-bfe4c21d9271"
      },
      "outputs": [
        {
          "data": {
            "image/png": "[encoded data removed]",
            "text/plain": [
              "<Figure size 600x600 with 1 Axes>"
            ]
          },
          "metadata": {},
          "output_type": "display_data"
        }
      ],
      "source": [
        "# Calling function to make the graph from the dictionary representation\n",
        "plot_weighted_graph(maze_with_cost, shortest_path_graph)"
      ]
    }
  ],
  "metadata": {
    "colab": {
      "provenance": []
    },
    "kernelspec": {
      "display_name": "Python 3",
      "name": "python3"
    },
    "language_info": {
      "codemirror_mode": {
        "name": "ipython",
        "version": 3
      },
      "file_extension": ".py",
      "mimetype": "text/x-python",
      "name": "python",
      "nbconvert_exporter": "python",
      "pygments_lexer": "ipython3",
      "version": "3.12.2"
    }
  },
  "nbformat": 4,
  "nbformat_minor": 0
}
